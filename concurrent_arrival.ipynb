{
  "nbformat": 4,
  "nbformat_minor": 0,
  "metadata": {
    "colab": {
      "private_outputs": true,
      "provenance": []
    },
    "kernelspec": {
      "name": "python3",
      "display_name": "Python 3"
    },
    "language_info": {
      "name": "python"
    }
  },
  "cells": [
    {
      "cell_type": "code",
      "execution_count": null,
      "metadata": {
        "id": "l_un-0NNOdn_"
      },
      "outputs": [],
      "source": [
        "!pip install simpy"
      ]
    },
    {
      "cell_type": "code",
      "source": [
        "import simpy\n",
        "import random\n",
        "\n",
        "class MM1():\n",
        "    def __init__(self, env, lambda_, mu_1, mu_2):\n",
        "        self.env = env\n",
        "        self.queue_1 = simpy.Store(env)\n",
        "        self.queue_2 = simpy.Store(env)\n",
        "        self.lambda_ = lambda_\n",
        "        self.mu_1 = mu_1\n",
        "        self.mu_2 = mu_2\n",
        "        self.data = {'arrival':[], 'departure 1':[], 'departure 2':[]}\n",
        "\n",
        "\n",
        "    def arrive(self):\n",
        "        for _ in range(10**6):\n",
        "            yield self.env.timeout(random.expovariate(self.lambda_))\n",
        "            self.queue_1.put('a')\n",
        "            self.queue_2.put('a')\n",
        "            self.data['arrival'].append(self.env.now)\n",
        "\n",
        "\n",
        "    def service_1(self):\n",
        "        while True:\n",
        "            yield self.queue_1.get()\n",
        "            yield self.env.timeout(random.expovariate(self.mu_1))\n",
        "            self.data['departure 1'].append(self.env.now)\n",
        "\n",
        "\n",
        "\n",
        "    def service_2(self):\n",
        "        while True:\n",
        "            yield self.queue_2.get()\n",
        "            yield self.env.timeout(random.expovariate(self.mu_2))\n",
        "            self.data['departure 2'].append(self.env.now)"
      ],
      "metadata": {
        "id": "rh18vZZyv9nP"
      },
      "execution_count": null,
      "outputs": []
    },
    {
      "cell_type": "code",
      "source": [
        "import numpy as np\n",
        "\n",
        "env = simpy.Environment()\n",
        "net = MM1(env, 1, 2, 4)\n",
        "\n",
        "env.process(net.arrive())\n",
        "env.process(net.service_1())\n",
        "env.process(net.service_2())\n",
        "\n",
        "env.run()\n",
        "print(sum(np.array(net.data['departure 1']) - np.array(net.data['arrival']))/len(net.data['departure 1']))\n",
        "print(sum(np.array(net.data['departure 2']) - np.array(net.data['arrival']))/len(net.data['departure 2']))"
      ],
      "metadata": {
        "id": "zKmfayNNTRzS"
      },
      "execution_count": null,
      "outputs": []
    }
  ]
}